{
 "cells": [
  {
   "cell_type": "code",
   "execution_count": 92,
   "metadata": {},
   "outputs": [
    {
     "name": "stdout",
     "output_type": "stream",
     "text": [
      "Populating the interactive namespace from numpy and matplotlib\n"
     ]
    },
    {
     "name": "stderr",
     "output_type": "stream",
     "text": [
      "/home/angelo/anaconda3/lib/python3.8/site-packages/IPython/core/magics/pylab.py:159: UserWarning: pylab import has clobbered these variables: ['rand', 'clf']\n",
      "`%matplotlib` prevents importing * from pylab and numpy\n",
      "  warn(\"pylab import has clobbered these variables: %s\"  % clobbered +\n"
     ]
    }
   ],
   "source": [
    "import numpy as np\n",
    "import requests, gzip, os, hashlib\n",
    "%pylab inline\n",
    "import pickle\n",
    "from sklearn.linear_model import LogisticRegression"
   ]
  },
  {
   "cell_type": "code",
   "execution_count": 2,
   "metadata": {},
   "outputs": [],
   "source": [
    "#fetch data\n",
    "path='data'\n",
    "def fetch(url):\n",
    "    fp = os.path.join(path, hashlib.md5(url.encode('utf-8')).hexdigest())\n",
    "    if os.path.isfile(fp):\n",
    "        with open(fp, \"rb\") as f:\n",
    "            data = f.read()\n",
    "    else:\n",
    "        with open(fp, \"wb\") as f:\n",
    "            data = requests.get(url).content\n",
    "            f.write(data)\n",
    "    return np.frombuffer(gzip.decompress(data), dtype=np.uint8).copy()\n",
    "\n",
    "X = fetch(\"http://yann.lecun.com/exdb/mnist/train-images-idx3-ubyte.gz\")[0x10:].reshape((-1, 28, 28))\n",
    "Y = fetch(\"http://yann.lecun.com/exdb/mnist/train-labels-idx1-ubyte.gz\")[8:]\n",
    "X_test = fetch(\"http://yann.lecun.com/exdb/mnist/t10k-images-idx3-ubyte.gz\")[0x10:].reshape((-1, 28*28))\n",
    "Y_test = fetch(\"http://yann.lecun.com/exdb/mnist/t10k-labels-idx1-ubyte.gz\")[8:]"
   ]
  },
  {
   "cell_type": "code",
   "execution_count": 3,
   "metadata": {},
   "outputs": [],
   "source": [
    "#Validation split\n",
    "rand=np.arange(60000)\n",
    "np.random.shuffle(rand)\n",
    "train_no=rand[:59900]\n",
    "\n",
    "val_no=np.setdiff1d(rand,train_no)\n",
    "\n",
    "X_train,X_val=X[train_no,:,:],X[val_no,:,:]\n",
    "Y_train,Y_val=Y[train_no],Y[val_no]\n",
    "X_train.shape = (X_train.shape[0],X_train.shape[1]*X_train.shape[2])\n",
    "X_val.shape = (X_val.shape[0],X_val.shape[1]*X_val.shape[2])"
   ]
  },
  {
   "cell_type": "code",
   "execution_count": 67,
   "metadata": {},
   "outputs": [
    {
     "name": "stdout",
     "output_type": "stream",
     "text": [
      "(1000, 784)\n"
     ]
    },
    {
     "name": "stderr",
     "output_type": "stream",
     "text": [
      "/home/angelo/anaconda3/lib/python3.8/site-packages/sklearn/linear_model/_logistic.py:762: ConvergenceWarning: lbfgs failed to converge (status=1):\n",
      "STOP: TOTAL NO. of ITERATIONS REACHED LIMIT.\n",
      "\n",
      "Increase the number of iterations (max_iter) or scale the data as shown in:\n",
      "    https://scikit-learn.org/stable/modules/preprocessing.html\n",
      "Please also refer to the documentation for alternative solver options:\n",
      "    https://scikit-learn.org/stable/modules/linear_model.html#logistic-regression\n",
      "  n_iter_i = _check_optimize_result(\n"
     ]
    },
    {
     "name": "stdout",
     "output_type": "stream",
     "text": [
      "0.85\n",
      "(1000, 784)\n"
     ]
    },
    {
     "name": "stderr",
     "output_type": "stream",
     "text": [
      "/home/angelo/anaconda3/lib/python3.8/site-packages/sklearn/linear_model/_logistic.py:762: ConvergenceWarning: lbfgs failed to converge (status=1):\n",
      "STOP: TOTAL NO. of ITERATIONS REACHED LIMIT.\n",
      "\n",
      "Increase the number of iterations (max_iter) or scale the data as shown in:\n",
      "    https://scikit-learn.org/stable/modules/preprocessing.html\n",
      "Please also refer to the documentation for alternative solver options:\n",
      "    https://scikit-learn.org/stable/modules/linear_model.html#logistic-regression\n",
      "  n_iter_i = _check_optimize_result(\n"
     ]
    },
    {
     "name": "stdout",
     "output_type": "stream",
     "text": [
      "0.84\n",
      "(1000, 784)\n"
     ]
    },
    {
     "name": "stderr",
     "output_type": "stream",
     "text": [
      "/home/angelo/anaconda3/lib/python3.8/site-packages/sklearn/linear_model/_logistic.py:762: ConvergenceWarning: lbfgs failed to converge (status=1):\n",
      "STOP: TOTAL NO. of ITERATIONS REACHED LIMIT.\n",
      "\n",
      "Increase the number of iterations (max_iter) or scale the data as shown in:\n",
      "    https://scikit-learn.org/stable/modules/preprocessing.html\n",
      "Please also refer to the documentation for alternative solver options:\n",
      "    https://scikit-learn.org/stable/modules/linear_model.html#logistic-regression\n",
      "  n_iter_i = _check_optimize_result(\n"
     ]
    },
    {
     "name": "stdout",
     "output_type": "stream",
     "text": [
      "0.84\n",
      "(500, 784)\n"
     ]
    },
    {
     "name": "stderr",
     "output_type": "stream",
     "text": [
      "/home/angelo/anaconda3/lib/python3.8/site-packages/sklearn/linear_model/_logistic.py:762: ConvergenceWarning: lbfgs failed to converge (status=1):\n",
      "STOP: TOTAL NO. of ITERATIONS REACHED LIMIT.\n",
      "\n",
      "Increase the number of iterations (max_iter) or scale the data as shown in:\n",
      "    https://scikit-learn.org/stable/modules/preprocessing.html\n",
      "Please also refer to the documentation for alternative solver options:\n",
      "    https://scikit-learn.org/stable/modules/linear_model.html#logistic-regression\n",
      "  n_iter_i = _check_optimize_result(\n"
     ]
    },
    {
     "name": "stdout",
     "output_type": "stream",
     "text": [
      "0.8\n",
      "(500, 784)\n"
     ]
    },
    {
     "name": "stderr",
     "output_type": "stream",
     "text": [
      "/home/angelo/anaconda3/lib/python3.8/site-packages/sklearn/linear_model/_logistic.py:762: ConvergenceWarning: lbfgs failed to converge (status=1):\n",
      "STOP: TOTAL NO. of ITERATIONS REACHED LIMIT.\n",
      "\n",
      "Increase the number of iterations (max_iter) or scale the data as shown in:\n",
      "    https://scikit-learn.org/stable/modules/preprocessing.html\n",
      "Please also refer to the documentation for alternative solver options:\n",
      "    https://scikit-learn.org/stable/modules/linear_model.html#logistic-regression\n",
      "  n_iter_i = _check_optimize_result(\n"
     ]
    },
    {
     "name": "stdout",
     "output_type": "stream",
     "text": [
      "0.87\n",
      "(500, 784)\n"
     ]
    },
    {
     "name": "stderr",
     "output_type": "stream",
     "text": [
      "/home/angelo/anaconda3/lib/python3.8/site-packages/sklearn/linear_model/_logistic.py:762: ConvergenceWarning: lbfgs failed to converge (status=1):\n",
      "STOP: TOTAL NO. of ITERATIONS REACHED LIMIT.\n",
      "\n",
      "Increase the number of iterations (max_iter) or scale the data as shown in:\n",
      "    https://scikit-learn.org/stable/modules/preprocessing.html\n",
      "Please also refer to the documentation for alternative solver options:\n",
      "    https://scikit-learn.org/stable/modules/linear_model.html#logistic-regression\n",
      "  n_iter_i = _check_optimize_result(\n"
     ]
    },
    {
     "name": "stdout",
     "output_type": "stream",
     "text": [
      "0.79\n",
      "(200, 784)\n",
      "0.72\n",
      "(200, 784)\n"
     ]
    },
    {
     "name": "stderr",
     "output_type": "stream",
     "text": [
      "/home/angelo/anaconda3/lib/python3.8/site-packages/sklearn/linear_model/_logistic.py:762: ConvergenceWarning: lbfgs failed to converge (status=1):\n",
      "STOP: TOTAL NO. of ITERATIONS REACHED LIMIT.\n",
      "\n",
      "Increase the number of iterations (max_iter) or scale the data as shown in:\n",
      "    https://scikit-learn.org/stable/modules/preprocessing.html\n",
      "Please also refer to the documentation for alternative solver options:\n",
      "    https://scikit-learn.org/stable/modules/linear_model.html#logistic-regression\n",
      "  n_iter_i = _check_optimize_result(\n"
     ]
    },
    {
     "name": "stdout",
     "output_type": "stream",
     "text": [
      "0.81\n",
      "(200, 784)\n",
      "0.84\n",
      "(100, 784)\n",
      "0.69\n",
      "(100, 784)\n",
      "0.62\n",
      "(100, 784)\n",
      "0.75\n",
      "(50, 784)\n",
      "0.66\n",
      "(50, 784)\n",
      "0.65\n",
      "(50, 784)\n",
      "0.56\n"
     ]
    }
   ],
   "source": [
    "i = 0\n",
    "k = 0\n",
    "v = []\n",
    "for j in [1000,1000,1000,500,500,500,200,200,200,100,100,100,50,50,50]:#[20000, 10000, 10000, 5000, 5000, 2000, 2000, 1000, 1000]:\n",
    "    clf = LogisticRegression()\n",
    "    k+=j\n",
    "    print(X_train[i:k,:].shape)\n",
    "    clf.fit(X_train[i:k,:], Y_train[i:k])\n",
    "    predictions = clf.predict(X_val)\n",
    "    i+=j\n",
    "    v.append(predictions)\n",
    "    print(np.mean(predictions == Y_val))"
   ]
  },
  {
   "cell_type": "code",
   "execution_count": 68,
   "metadata": {},
   "outputs": [],
   "source": [
    "v = np.array(v)"
   ]
  },
  {
   "cell_type": "code",
   "execution_count": 69,
   "metadata": {},
   "outputs": [
    {
     "data": {
      "text/plain": [
       "(15, 100)"
      ]
     },
     "execution_count": 69,
     "metadata": {},
     "output_type": "execute_result"
    }
   ],
   "source": [
    "v.shape"
   ]
  },
  {
   "cell_type": "code",
   "execution_count": 70,
   "metadata": {
    "scrolled": true
   },
   "outputs": [],
   "source": [
    "v = v.transpose()"
   ]
  },
  {
   "cell_type": "code",
   "execution_count": 71,
   "metadata": {},
   "outputs": [
    {
     "name": "stdout",
     "output_type": "stream",
     "text": [
      "(250, 15)\n",
      "(250,)\n"
     ]
    }
   ],
   "source": [
    "votes = []\n",
    "target = []\n",
    "for i in range(len(v)):\n",
    "    answers=[]\n",
    "    for j in range(len(v[0])):\n",
    "        if not(v[i][j] in answers):\n",
    "            answers.append(v[i][j])\n",
    "    for answer in answers:\n",
    "        temp = np.array([answer]*len(v[0]))\n",
    "        votes.append(1*(v[i]==temp)-1*(v[i]!=temp)) \n",
    "        if answer == Y_val[i]:\n",
    "            target.append(1)\n",
    "        else:\n",
    "            target.append(0)\n",
    "            \n",
    "votes = np.array(votes)\n",
    "target = np.array(target)\n",
    "\n",
    "print(votes.shape) #The new matrix of votes \n",
    "print(target.shape) #The new matrix of answers"
   ]
  },
  {
   "cell_type": "code",
   "execution_count": 72,
   "metadata": {},
   "outputs": [
    {
     "name": "stdout",
     "output_type": "stream",
     "text": [
      "error percentage and number of errors with classic vote:\n",
      "0.088 22\n"
     ]
    }
   ],
   "source": [
    "#Classic voting error:\n",
    "\n",
    "answers = (np.sum(votes,1)>0)\n",
    "answers.shape = target.shape\n",
    "print('error percentage and number of errors with classic vote:')\n",
    "print(np.mean(np.abs(answers!=target)), np.sum(np.abs(answers!=target)))\n",
    "\n",
    "#SAME AS PAPER"
   ]
  },
  {
   "cell_type": "code",
   "execution_count": 73,
   "metadata": {},
   "outputs": [],
   "source": [
    "def est3(v, iterations, target):\n",
    "    nq, nv = v.shape\n",
    "    trust = 0.1* np.ones((1, nv))  # voters trustworthiness\n",
    "    diff = 0.1*np.ones((nq, 1))  # queries difficulty\n",
    "    target.shape = (nq, 1)\n",
    "    error = [] # We will measure the error on each iteration to track it\n",
    "    \n",
    "    t = (v==1)\n",
    "    t_ = (v==-1)\n",
    "    \n",
    "    for it in range(iterations):\n",
    "        n = np.sum(t,1) + np.sum(t_,1)\n",
    "        pos = np.sum(t * (1 - np.matmul(diff, trust)), 1)\n",
    "        neg = np.sum(t_ * np.matmul(diff, trust), 1)\n",
    "        y = (pos + neg) / n\n",
    "        y.shape = (nq, 1)\n",
    "        \n",
    "        n = np.sum(t,1)+np.sum(t_,1)\n",
    "        pos = np.sum(t  * np.matmul((1 - y), 1 / trust), 1)\n",
    "        neg = np.sum(t_ * np.matmul(y, 1 / trust), 1)\n",
    "        diff = (pos + neg) / n\n",
    "        diff.shape = (nq, 1)\n",
    "\n",
    "        n = np.sum(t,0) + np.sum(t_,0)\n",
    "        pos = np.matmul(t.transpose(), (1 - y) / diff)\n",
    "        neg = np.matmul(t_.transpose(), y / diff)\n",
    "        n.shape = pos.shape\n",
    "        trust = (pos + neg) / n\n",
    "        trust.shape = (1, nv)\n",
    "        \n",
    "        error.append(np.mean((np.array(y)>=0.5)!=target)) # % of votes that are wrong\n",
    "        \n",
    "    return np.array(y), np.array(trust), np.array(diff), error"
   ]
  },
  {
   "cell_type": "code",
   "execution_count": 74,
   "metadata": {},
   "outputs": [],
   "source": [
    "#Testing on hubdub\n",
    "y = est3(votes,10,target)"
   ]
  },
  {
   "cell_type": "code",
   "execution_count": 75,
   "metadata": {},
   "outputs": [
    {
     "data": {
      "image/png": "[encoded data removed]",
      "text/plain": [
       "<Figure size 432x288 with 1 Axes>"
      ]
     },
     "metadata": {
      "needs_background": "light"
     },
     "output_type": "display_data"
    },
    {
     "name": "stdout",
     "output_type": "stream",
     "text": [
      "Error percentage on last iteration:  0.14\n",
      "The minimum number of errors was achieved on iteration number  2  and it had  10.511999999999999  errors.\n"
     ]
    }
   ],
   "source": [
    "plt.plot(y[-1])\n",
    "plt.show() # % of errors on each iteration.\n",
    "print('Error percentage on last iteration: ', y[-1][-1])\n",
    "print('The minimum number of errors was achieved on iteration number ', np.argmin(y[-1])+1, ' and it had ', 146*np.min(y[-1]), ' errors.')"
   ]
  },
  {
   "cell_type": "code",
   "execution_count": 99,
   "metadata": {},
   "outputs": [],
   "source": [
    "def cosine(votes, iterations, target):\n",
    "    v = votes.transpose()\n",
    "    t = (v==1)\n",
    "    t_ = (v==-1)\n",
    "    nv, nq = v.shape\n",
    "    error = []\n",
    "    N = np.sum(v**2, 1) # Number of {votes!=0}\n",
    "    trust = (np.sum(t, 1) - np.sum(t_, 1))/ N\n",
    "    trust.shape = (nv, 1)\n",
    "    N.shape = trust.shape\n",
    "    y = np.ones((nq,1))\n",
    "    target.shape = y.shape\n",
    "    error.append(np.mean(np.abs(target - (y> 0))))\n",
    "    eta = 0.2\n",
    "    \n",
    "    for iteration in range(iterations):\n",
    "        pos = np.matmul(t,y)\n",
    "        neg = np.matmul(t_,y)\n",
    "        norm = np.matmul(v**2,y**2)*N\n",
    "        print(np.min(norm), np.max(norm))\n",
    "        norm = np.sqrt(norm)\n",
    "        new_trust = (pos - neg)/norm\n",
    "        trust = trust*(1-eta) + new_trust*eta\n",
    "    \n",
    "        k = np.matmul(v.transpose(), trust)\n",
    "        norm = np.matmul((v**2).transpose(), trust)\n",
    "        print('---', np.min(norm**2), np.max(norm**2))\n",
    "        y = (k*norm) / (norm**2)\n",
    "        error.append(np.mean(np.abs(target - (y>0))))\n",
    "        \n",
    "    return y, error"
   ]
  },
  {
   "cell_type": "code",
   "execution_count": 100,
   "metadata": {},
   "outputs": [
    {
     "name": "stdout",
     "output_type": "stream",
     "text": [
      "62500.0 62500.0\n",
      "--- 9.000000000000004 9.000000000000004\n",
      "33513.3333333333 33513.33333333333\n",
      "--- 0.041291187187289045 0.041291187187289045\n",
      "25975.469715241066 25975.46971524108\n",
      "--- 2.3863673549905915 2.386367354990593\n",
      "34880.92646781678 34880.92646781678\n",
      "--- 11.774888071895754 11.774888071895754\n",
      "35396.37378765677 35396.37378765678\n",
      "--- 24.401862569016167 24.401862569016167\n",
      "35555.19709060833 35555.19709060834\n",
      "--- 37.774587550744165 37.774587550744165\n",
      "35632.988117338355 35632.988117338355\n",
      "--- 50.564980284971945 50.564980284971945\n",
      "35679.00568634324 35679.005686343255\n",
      "--- 62.135565460911714 62.135565460911714\n",
      "35709.15747868674 35709.15747868675\n",
      "--- 72.2480485082752 72.2480485082752\n",
      "35730.20066365982 35730.20066365984\n",
      "--- 80.88555408513591 80.88555408513591\n"
     ]
    },
    {
     "data": {
      "image/png": "[encoded data removed]",
      "text/plain": [
       "<Figure size 432x288 with 1 Axes>"
      ]
     },
     "metadata": {
      "needs_background": "light"
     },
     "output_type": "display_data"
    },
    {
     "name": "stdout",
     "output_type": "stream",
     "text": [
      "Error percentage on last iteration:  0.084 12.264000000000001\n",
      "The minimum number of errors was achieved on iteration number  4  and it had  12.264000000000001  errors.\n"
     ]
    }
   ],
   "source": [
    "y = cosine(votes,10,target)\n",
    "plt.plot(y[-1])\n",
    "plt.show() # % of errors on each iteration.\n",
    "print('Error percentage on last iteration: ', y[-1][-1], y[-1][-1]*146)\n",
    "print('The minimum number of errors was achieved on iteration number ', np.argmin(y[-1])+1, ' and it had ', 146*np.min(y[-1]), ' errors.')"
   ]
  },
  {
   "cell_type": "code",
   "execution_count": 90,
   "metadata": {},
   "outputs": [],
   "source": [
    "def map_to_ring(x):\n",
    "    a = 2**20\n",
    "    a = a * x\n",
    "    a = np.rint(a)\n",
    "    a = a.astype(int)\n",
    "    a = a % 2**60\n",
    "    return a\n",
    "\n",
    "def secret_share(x, real=True, modulo=False):\n",
    "    if not modulo:\n",
    "        modulo = 2**60\n",
    "    if real:\n",
    "        x = map_to_ring(x)\n",
    "    shares_partner = np.random.randint(0, modulo, x.shape)\n",
    "    pickle.dump(shares_partner, open('mnist.alice', 'wb'), protocol=pickle.HIGHEST_PROTOCOL)\n",
    "    shares_identity = (x - shares_partner).astype(int) % modulo\n",
    "    pickle.dump(shares_identity, open('mnist.bob', 'wb'), protocol=pickle.HIGHEST_PROTOCOL)\n"
   ]
  },
  {
   "cell_type": "code",
   "execution_count": 93,
   "metadata": {},
   "outputs": [],
   "source": [
    "secret_share(votes)"
   ]
  },
  {
   "cell_type": "code",
   "execution_count": 94,
   "metadata": {},
   "outputs": [],
   "source": [
    "pickle.dump(target, open('mnist.target', 'wb'), protocol=pickle.HIGHEST_PROTOCOL)"
   ]
  },
  {
   "cell_type": "code",
   "execution_count": null,
   "metadata": {},
   "outputs": [],
   "source": []
  }
 ],
 "metadata": {
  "kernelspec": {
   "display_name": "Python 3",
   "language": "python",
   "name": "python3"
  },
  "language_info": {
   "codemirror_mode": {
    "name": "ipython",
    "version": 3
   },
   "file_extension": ".py",
   "mimetype": "text/x-python",
   "name": "python",
   "nbconvert_exporter": "python",
   "pygments_lexer": "ipython3",
   "version": "3.8.5"
  }
 },
 "nbformat": 4,
 "nbformat_minor": 4
}
