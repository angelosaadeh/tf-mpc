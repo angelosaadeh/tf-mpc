{
 "cells": [
  {
   "cell_type": "markdown",
   "metadata": {},
   "source": [
    "# Import the data (hubdub)"
   ]
  },
  {
   "cell_type": "code",
   "execution_count": 1,
   "metadata": {},
   "outputs": [],
   "source": [
    "import xml.etree.ElementTree as ET\n",
    "import pandas as pd\n",
    "import numpy as np\n",
    "from matplotlib import pyplot as plt\n",
    "import pickle\n",
    "\n",
    "xml_data = open('hubdub.xml', 'r').read()  # Read file\n",
    "root = ET.XML(xml_data)  # Parse XML\n",
    "\n",
    "data = []\n",
    "cols = []\n",
    "q=dict()\n",
    "for i, child in enumerate(root.findall(\"*/{http://gemofusion.gforge.inria.fr/xsd/datacorrob.xsd}Query\")):\n",
    "    q[child.attrib[\"id\"]]=child.attrib[\"answer\"]\n",
    "\n",
    "for i, child in enumerate(root.findall(\"*/{http://gemofusion.gforge.inria.fr/xsd/datacorrob.xsd}Engine\")):\n",
    "    cols.append(child.attrib[\"id\"])\n",
    "    l = [child.find(\"{http://gemofusion.gforge.inria.fr/xsd/datacorrob.xsd}EngineAnswer[@ref='%s']\"%(k)) for k in sorted(q)]\n",
    "    l = map(lambda x: None if x==None else x.attrib[\"answer\"], l)\n",
    "    data.append(l)"
   ]
  },
  {
   "cell_type": "code",
   "execution_count": 2,
   "metadata": {},
   "outputs": [
    {
     "data": {
      "text/plain": [
       "{'m43108': 'Andy Murray',\n",
       " 'm41935': 'LA Lakers',\n",
       " 'm41921': 'Orlando wins series in 6 games',\n",
       " 'm43061': '30-34',\n",
       " 'm38684': 'LA Lakers - Orlando Magic',\n",
       " 'm38922': 'Be&#351;ikta&#351; J.K.',\n",
       " 'm43087': 'Philadelphia Phillies',\n",
       " 'm43064': '280 and over',\n",
       " 'm36415': 'BULLS',\n",
       " 'm42594': 'No',\n",
       " 'm19859': 'Chelsea',\n",
       " 'm36416': 'South Africa',\n",
       " 'm41348': 'Decided in 6 games',\n",
       " 'm31882': 'Orlando Magic',\n",
       " 'm43112': 'Safina wins in 2 sets',\n",
       " 'm41912': 'LeBron James',\n",
       " 'm37059': '4-5',\n",
       " 'm41936': 'Western Conference',\n",
       " 'm41361': '221 - 240 points',\n",
       " 'm29570': '5',\n",
       " 'm42440': 'Egypt',\n",
       " 'm42591': 'Adelaide',\n",
       " 'm42592': 'Collingwood',\n",
       " 'm42590': 'Geelong',\n",
       " 'm43113': 'Dominika Cibulkova',\n",
       " 'm43109': 'Fernando Gonzalez',\n",
       " 'm43018': 'No, combined score is less than 200 points',\n",
       " 'm43016': 'No',\n",
       " 'm43014': 'Orlando Magic',\n",
       " 'm42931': 'Under 6.5',\n",
       " 'm42912': 'Detroit Red Wings',\n",
       " 'm43090': 'TX Rangers',\n",
       " 'm43086': 'Milwaukee Brewers',\n",
       " 'm43084': 'NY Yankees',\n",
       " 'm43089': 'Chicago White Sox',\n",
       " 'm43083': 'Detroit Tigers',\n",
       " 'm43088': 'Pittsburgh Pirates',\n",
       " 'm43081': 'AZ Dbacks',\n",
       " 'm43082': 'TB Rays',\n",
       " 'm43099': 'Chicago Cubs',\n",
       " 'm14213': 'Bordeaux',\n",
       " 'm41388': 'Wigan Warriors',\n",
       " 'm42726': 'Draw',\n",
       " 'm42742': 'Atlético Madrid',\n",
       " 'm42745': 'Valencia',\n",
       " 'm42724': 'Draw',\n",
       " 'm42719': 'Lille',\n",
       " 'm42720': 'Draw',\n",
       " 'm42722': 'Nantes',\n",
       " 'm42717': 'Bordeaux',\n",
       " 'm42725': 'Saint Étienne',\n",
       " 'm42721': 'Marseille',\n",
       " 'm42744': 'Villarreal',\n",
       " 'm41386': 'St Helens',\n",
       " 'm42743': 'Draw',\n",
       " 'm41900': 'Kobe Bryant',\n",
       " 'm42528': 'Serena Williams',\n",
       " 'm43097': 'Toronto Blue Jays',\n",
       " 'm42868': 'Werder Bremen',\n",
       " 'm43096': 'Florida Marlins',\n",
       " 'm42985': 'Atlanta Braves',\n",
       " 'm42986': 'Seattle Mariners',\n",
       " 'm42987': 'SF Giants',\n",
       " 'm42437': 'Canada',\n",
       " 'm43009': 'Sorana Cirstea',\n",
       " 'm42997': 'Federer wins in 4 sets',\n",
       " 'm42595': 'Yes',\n",
       " 'm42197': 'No',\n",
       " 'm43004': 'Serena wins in 3 sets',\n",
       " 'm43001': 'Tommy Robredo',\n",
       " 'm43002': 'Tsonga wins in 3 sets',\n",
       " 'm42579': 'Chelsea',\n",
       " 'm42580': 'Rangers',\n",
       " 'm43129': 'Philipp Kohlschreiber',\n",
       " 'm42589': 'ST KIlda',\n",
       " 'm42588': 'Richmond',\n",
       " 'm42999': 'Gael Monfils',\n",
       " 'm43003': 'Del Potro wins in 3 sets',\n",
       " 'm43005': 'Aleksandra Wozniak',\n",
       " 'm43010': 'Jankovic wins in 2 sets',\n",
       " 'm42923': 'Victoria Azarenka',\n",
       " 'm43007': 'Kuznetsova wins in 2 sets',\n",
       " 'm43011': 'Samantha Stosur wins',\n",
       " 'm43008': 'Virginie Razzano',\n",
       " 'm42998': 'Tommy Haas',\n",
       " 'm42587': 'Brisbane',\n",
       " 'm42585': 'Westernbulldogs',\n",
       " 'm43006': 'Agnieszka Radwanska',\n",
       " 'm43000': 'Roddick wins in 3 sets',\n",
       " 'm42228': 'Los Angeles Lakers',\n",
       " 'm41349': 'Decided in 6 games',\n",
       " 'm41897': 'Lakers win series in 6 games',\n",
       " 'm43059': '264-271',\n",
       " 'm41913': '201 - 220 points',\n",
       " 'm42984': 'Colorado Rockies',\n",
       " 'm42983': 'Chicago White Sox',\n",
       " 'm42976': 'TX Rangers',\n",
       " 'm42981': 'TB Rays',\n",
       " 'm42989': 'NY Mets',\n",
       " 'm42988': 'NY Yankees',\n",
       " 'm31883': 'LA Lakers',\n",
       " 'm42934': 'LA Lakers',\n",
       " 'm42937': 'Kobe Bryant',\n",
       " 'm42938': 'Yes, teams combine to score 200+ points',\n",
       " 'm42936': 'Yes',\n",
       " 'm42992': 'Toronto Blue Jays',\n",
       " 'm42982': 'Milwaukee Brewers',\n",
       " 'm42977': 'Baltimore Orioles',\n",
       " 'm42979': 'Houston Astros',\n",
       " 'm42978': 'Philadelphia Phillies',\n",
       " 'm40065': 'TX Rangers',\n",
       " 'm42993': 'No',\n",
       " 'm42994': 'Yes, all on 29th May',\n",
       " 'm42436': 'Wales',\n",
       " 'm42433': 'Draw',\n",
       " 'm42844': 'Yes',\n",
       " 'm41802': 'No',\n",
       " 'm42991': 'Chicago Cubs',\n",
       " 'm15078': 'No',\n",
       " 'm42830': 'Yes',\n",
       " 'm42913': 'Nadal wins in 3 sets',\n",
       " 'm42916': 'Andy Murray',\n",
       " 'm42925': 'Safina wins in 2 sets',\n",
       " 'm42921': 'Na Li',\n",
       " 'm42920': 'Maria Sharapova',\n",
       " 'm42917': 'Marin Cilic',\n",
       " 'm42919': 'Victor Hanescu',\n",
       " 'm42772': '50-54',\n",
       " 'm42918': 'Fernando Gonzalez',\n",
       " 'm42406': 'No',\n",
       " 'm42584': 'Carlton',\n",
       " 'm42435': 'Draw',\n",
       " 'm42822': 'Djokovic wins in 3 sets',\n",
       " 'm42922': 'Dominika Cibulkova',\n",
       " 'm42996': 'Nikolay Davydenko',\n",
       " 'm42915': 'Fernando Verdasco',\n",
       " 'm42924': 'Ana Ivanovic',\n",
       " 'm42810': 'Philipp Kohlschreiber',\n",
       " 'm42694': 'Venus wins in 3 sets',\n",
       " 'm42403': 'Dominika Cibulkova',\n",
       " 'm43356': 'Yes',\n",
       " 'm43445': 'Seattle Mariners',\n",
       " 'm43446': 'LA Dodgers',\n",
       " 'm42566': 'Washington',\n",
       " 'm43440': 'Minnesota Twins',\n",
       " 'm43443': 'St. Louis Cardinals',\n",
       " 'm43444': 'Philadelphia Phillies',\n",
       " 'm43439': 'Houston Astros',\n",
       " 'm43508': '136-145',\n",
       " 'm43442': \"Oakland A's\",\n",
       " 'm43433': 'Atlanta Braves',\n",
       " 'm43354': 'Detriot Red Wings',\n",
       " 'm42932': 'Waalwijk',\n",
       " 'm42705': 'Washington',\n",
       " 'm42707': 'Michigan',\n",
       " 'm42933': 'Draw',\n",
       " 'm42716': 'Draw',\n",
       " 'm42910': 'AZ Dbacks',\n",
       " 'm42708': 'Florida',\n",
       " 'm42853': 'Yes, teams combine to score 200+ points',\n",
       " 'm42852': 'No',\n",
       " 'm42851': 'Cavs win by 6 - 10 points',\n",
       " 'm42850': 'Cleveland Cavaliers',\n",
       " 'm42909': 'LA Dodgers',\n",
       " 'm42908': 'Baltimore Orioles',\n",
       " 'm42907': 'Boston Red Sox',\n",
       " 'm42906': 'Cleveland Indians',\n",
       " 'm42882': 'Other',\n",
       " 'm42866': '146-155',\n",
       " 'm42802': 'Yes',\n",
       " 'm36174': 'Yes',\n",
       " 'm42864': '1. FC Nürnberg',\n",
       " 'm42839': 'Lourdes Dominguez Lino',\n",
       " 'm42832': 'Kuznetsova wins in 2 sets',\n",
       " 'm42814': 'Igor Andreev',\n",
       " 'm42812': 'Robredo wins in 3 sets',\n",
       " 'm42834': 'Wozniacki wins in 2 sets',\n",
       " 'm42674': 'Federer wins in 4 sets',\n",
       " 'm42838': 'Jarmila Groth',\n",
       " 'm42837': 'Kateryna Bondarenko',\n",
       " 'm42833': 'Serena wins in 2 sets',\n",
       " 'm42816': 'Melzer wins in 3 sets',\n",
       " 'm42828': 'Dementieva wins in 2 sets',\n",
       " 'm42825': 'Virginie Razzano',\n",
       " 'm42821': 'Roddick wins in 3 sets',\n",
       " 'm42824': 'Jankovic wins in 2 sets',\n",
       " 'm42826': 'Samantha Stosur',\n",
       " 'm42817': 'Monfils wins in 3 sets',\n",
       " 'm42819': 'Mathieu wins in 3 sets',\n",
       " 'm42818': 'Jeremy Chardy',\n",
       " 'm42815': 'Juan Martin Del Potro',\n",
       " 'm42813': 'Jo-Wilfried Tsonga',\n",
       " 'm42758': '272 and over',\n",
       " 'm10282': 'Yes',\n",
       " 'm17957': 'Other',\n",
       " 'm42429': 'Qatar',\n",
       " 'm40088': 'Detroit Red Wings',\n",
       " 'm41942': '6-7',\n",
       " 'm41944': 'Evgeni Malkin',\n",
       " 'm42805': 'LA Angels',\n",
       " 'm42806': 'SF Giants',\n",
       " 'm42804': 'SD Padres',\n",
       " 'm42801': 'NY Yankees',\n",
       " 'm42702': 'Carmelo Anthony',\n",
       " 'm42698': 'Lakers win by 6-10 points',\n",
       " 'm42701': 'Yes',\n",
       " 'm42700': 'No, combined score is less than 200 points',\n",
       " 'm42699': 'No',\n",
       " 'm42697': 'LA Lakers',\n",
       " 'm42803': 'Minnesota Twins',\n",
       " 'm10418': 'A Spanish team',\n",
       " 'm42152': '2-0',\n",
       " 'm42842': 'Samuel Etoo',\n",
       " 'm42836': 'Samuel Etoo',\n",
       " 'm42603': 'Barcelona in regular time',\n",
       " 'm42831': 'No',\n",
       " 'm42534': 'No',\n",
       " 'm42533': 'No',\n",
       " 'm42532': 'Yes',\n",
       " 'm42602': '2-3',\n",
       " 'm42531': 'Barcelona',\n",
       " 'm41635': 'Five',\n",
       " 'm41747': 'Detroit wins series in 5 games',\n",
       " 'm42704': 'Under 6.5 goals',\n",
       " 'm42581': 'Detroit Red Wings',\n",
       " 'm42800': 'Cincinnati Reds',\n",
       " 'm42799': 'Seattle Mariners',\n",
       " 'm42798': 'LA Dodgers',\n",
       " 'm42797': 'Detroit Tigers',\n",
       " 'm42796': 'Baltimore Orioles',\n",
       " 'm42795': 'St. Louis Cardinals',\n",
       " 'm41970': 'Martin, Edwards, Bowyer, Montoya, Reutimann',\n",
       " 'm14774': 'Barcelona',\n",
       " 'm40089': 'Pittsburgh Penguins',\n",
       " 'm42695': 'Gisela Dulko',\n",
       " 'm42696': 'Maria Sharapova',\n",
       " 'm42693': 'Ivanovic wins in 2 sets',\n",
       " 'm42687': 'Simon wins in 3 sets',\n",
       " 'm28056': 'Yes',\n",
       " 'm42430': 'Japan',\n",
       " 'm42673': 'Nadal wins in 3 sets',\n",
       " 'm42683': 'Verdasco wins in 3 sets',\n",
       " 'm42677': 'Lleyton Hewitt',\n",
       " 'm42678': 'Soderling wins in 3 sets',\n",
       " 'm41690': 'Barcelona',\n",
       " 'm43350': 'Pittsburgh Penguins',\n",
       " 'm43352': 'Over 5.5',\n",
       " 'm43351': 'Pittsburgh wins by 2 goals',\n",
       " 'm43437': 'TB Rays',\n",
       " 'm43438': 'Florida Marlins',\n",
       " 'm43447': 'Toronto Blue Jays',\n",
       " 'm43448': 'Boston Red Sox',\n",
       " 'm43436': 'Pittsburgh Pirates',\n",
       " 'm43434': 'NY Yankees',\n",
       " 'm43435': 'Washington Nationals',\n",
       " 'm23263': 'No',\n",
       " 'm43342': 'Dominika Cibulkova',\n",
       " 'm43340': 'Fernando Gonzalez',\n",
       " 'm43339': 'Robin Soderling',\n",
       " 'm43401': 'Penguins',\n",
       " 'm43402': 'Penguins',\n",
       " 'm42402': 'Dinara Safina',\n",
       " 'm43341': 'Dinara Safina',\n",
       " 'm42442': 'Turkey',\n",
       " 'm42444': 'Nigeria',\n",
       " 'm43333': 'AZ Dbacks',\n",
       " 'm43332': 'Baltimore Orioles',\n",
       " 'm43331': 'Philadelphia Phillies',\n",
       " 'm43330': 'Cincinnati Reds',\n",
       " 'm43329': 'Chicago White Sox',\n",
       " 'm43328': 'Houston Astros',\n",
       " 'm43327': 'Florida Marlins',\n",
       " 'm43325': 'NY Yankees',\n",
       " 'm43326': 'Pittsburgh Pirates',\n",
       " 'm40845': 'Richmond: Terry Wallace',\n",
       " 'm42438': 'Ghana',\n",
       " 'm43297': 'Carlo Ancelotti',\n",
       " 'm42441': 'China',\n",
       " 'm43092': '265 - 276',\n",
       " 'm42792': 'Zach Johnson-1525 Points',\n",
       " 'm43229': 'Svetlana Kuznetsova',\n",
       " 'm43222': 'Tommy Robredo',\n",
       " 'm43228': 'Samantha Stosur',\n",
       " 'm43226': 'Serena Williams',\n",
       " 'm43225': 'Gael Monfils',\n",
       " 'm43224': 'Juan Martin Del Potro',\n",
       " 'm42527': 'Both lose in same round',\n",
       " 'm30737': 'Zlatan Ibrahimovic (Inter Milan)',\n",
       " 'm18341': 'No',\n",
       " 'm42663': 'Yes, Warriors win',\n",
       " 'm43283': '20-24',\n",
       " 'm43235': 'Pittsburgh Penguins',\n",
       " 'm41389': 'Warrington Wolves',\n",
       " 'm41561': 'Huddersfield Giants',\n",
       " 'm43214': 'LA Dodgers',\n",
       " 'm43098': '146 - 155',\n",
       " 'm42023': 'none',\n",
       " 'm43234': 'Under 5.5',\n",
       " 'm43233': 'Detroit Red Wings',\n",
       " 'm43213': 'Atlanta Braves',\n",
       " 'm43211': 'LA Angels',\n",
       " 'm43212': 'SF Giants',\n",
       " 'm42975': 'No',\n",
       " 'm42794': '62',\n",
       " 'm42893': '47  Or More Finish Under Par',\n",
       " 'm42807': 'United States of America',\n",
       " 'm42846': '16-17 under par',\n",
       " 'm42845': 'Finishes 2nd - 10th',\n",
       " 'm42843': 'Last name begins with letter R - S',\n",
       " 'm40892': 'Kermit Cintron',\n",
       " 'm40891': 'Andre Berto',\n",
       " 'm42848': '16 - 20',\n",
       " 'm42847': 'France - Germany',\n",
       " 'm43091': 'Colorado Rockies',\n",
       " 'm43093': 'St. Louis Cardinals',\n",
       " 'm43095': 'Seattle Mariners',\n",
       " 'm43209': \"Oakland A's\",\n",
       " 'm43208': 'Chicago White Sox',\n",
       " 'm43210': 'SD Padres',\n",
       " 'm43206': 'Minnesota Twins',\n",
       " 'm42643': 'Jimmy Johnson / Clint Bowyer',\n",
       " 'm43207': 'Milwaukee Brewers',\n",
       " 'm43203': 'Detroit Tigers',\n",
       " 'm43204': 'Philadelphia Phillies',\n",
       " 'm43218': 'Boston Red Sox',\n",
       " 'm43205': 'Houston Astros',\n",
       " 'm43217': 'Cleveland Indians',\n",
       " 'm42791': '1',\n",
       " 'm42115': 'No',\n",
       " 'm37865': 'Lance starts and finishes the Giro',\n",
       " 'm42940': 'Yes',\n",
       " 'm43025': 'Target Chip Ganassi Racing',\n",
       " 'm42939': 'Scott Dixon',\n",
       " 'm42790': 'Jeff Gordon, Stewart, Ku Busch, Johnson, Hamlin',\n",
       " 'm43215': 'NY Mets',\n",
       " 'm43110': 'Nikolay Davydenko',\n",
       " 'm43111': 'Maria Sharapova',\n",
       " 'm42749': 'Gijon',\n",
       " 'm42750': 'Osasuna',\n",
       " 'm42748': 'Draw',\n",
       " 'm42746': 'Espanyol',\n",
       " 'm42747': 'Sevilla',\n",
       " 'm41256': 'Astana',\n",
       " 'm37812': 'Russia',\n",
       " 'm37807': 'Denis Menchov',\n",
       " 'm42439': 'Japan',\n",
       " 'm42741': 'Udinese',\n",
       " 'm42730': 'Inter',\n",
       " 'm42739': 'Draw',\n",
       " 'm42729': 'Genoa',\n",
       " 'm42734': 'Draw',\n",
       " 'm42728': 'AC Milan',\n",
       " 'm42733': 'Napoli',\n",
       " 'm42727': 'Bologna',\n",
       " 'm42731': 'Juventus',\n",
       " 'm42740': 'Roma',\n",
       " 'm43191': 'Victoria Azarenka'}"
      ]
     },
     "execution_count": 2,
     "metadata": {},
     "output_type": "execute_result"
    }
   ],
   "source": [
    "q"
   ]
  },
  {
   "cell_type": "code",
   "execution_count": 3,
   "metadata": {},
   "outputs": [
    {
     "name": "stdout",
     "output_type": "stream",
     "text": [
      "      0                 1     2     3     4     5     6     7    \\\n",
      "0    None              None  None  None  None  None  None  None   \n",
      "1    None              None  None  None  None  None  None  None   \n",
      "2    None              None  None  None  None  None  None  None   \n",
      "3    None              None  None  None  None  None  None  None   \n",
      "4    None              None  None  None  None  None  None  None   \n",
      "..    ...               ...   ...   ...   ...   ...   ...   ...   \n",
      "352  None  Seattle Mariners  None  None  None  None  None  None   \n",
      "353  None              None  None  None  None  None  None  None   \n",
      "354  None              None  None  None  None  None  None  None   \n",
      "355  None              None  None  None  None  None  None  None   \n",
      "356  None              None  None  None  None  None  None  None   \n",
      "\n",
      "                   8     9    ...   461   462   463   464   465   466  \\\n",
      "0                 None  None  ...  None  None  None  None  None  None   \n",
      "1                 None  None  ...  None  None  None  None  None  None   \n",
      "2                 None  None  ...  None  None  None  None  None  None   \n",
      "3                 None  None  ...  None  None  None  None  None  None   \n",
      "4                 None  None  ...  None  None  None  None  None  None   \n",
      "..                 ...   ...  ...   ...   ...   ...   ...   ...   ...   \n",
      "352               None  None  ...  None  None  None  None  None  None   \n",
      "353               None  None  ...  None  None  None  None  None  None   \n",
      "354  Toronto Blue Jays  None  ...  None  None  None  None  None  None   \n",
      "355     Detroit Tigers  None  ...  None  None  None  None  None  None   \n",
      "356               None  None  ...  None  None  None  None  None  None   \n",
      "\n",
      "                467   468   469             470  \n",
      "0              None  None  None            None  \n",
      "1              None  None  None            None  \n",
      "2              None  None  None            None  \n",
      "3              None  None  None            None  \n",
      "4              None  None  None            None  \n",
      "..              ...   ...   ...             ...  \n",
      "352            None  None  None            None  \n",
      "353            None  None  None            None  \n",
      "354            None  None  None            None  \n",
      "355  Detroit Tigers  None  None  Boston Red Sox  \n",
      "356            None  None  None            None  \n",
      "\n",
      "[357 rows x 471 columns]\n"
     ]
    }
   ],
   "source": [
    "df = pd.DataFrame(data).T  # Write in DF and transpose it\n",
    "#df.columns = cols  # Update column names\n",
    "print(df)"
   ]
  },
  {
   "cell_type": "markdown",
   "metadata": {},
   "source": [
    "## Matrix of the votes and the target of hubdub"
   ]
  },
  {
   "cell_type": "code",
   "execution_count": 4,
   "metadata": {},
   "outputs": [
    {
     "name": "stdout",
     "output_type": "stream",
     "text": [
      "[[0 0 0 ... 0 0 0]\n",
      " [0 0 0 ... 0 0 0]\n",
      " [0 0 0 ... 0 0 0]\n",
      " ...\n",
      " [0 0 0 ... 0 0 0]\n",
      " [0 0 0 ... 0 0 'Boston Red Sox']\n",
      " [0 0 0 ... 0 0 0]]\n"
     ]
    }
   ],
   "source": [
    "a = df.to_numpy() #Vote Matrix\n",
    "a[a==None]=0\n",
    "print(a)"
   ]
  },
  {
   "cell_type": "code",
   "execution_count": 5,
   "metadata": {},
   "outputs": [
    {
     "name": "stdout",
     "output_type": "stream",
     "text": [
      "['Yes' 'A Spanish team' 'Bordeaux' 'Barcelona' 'No' 'Other' 'No' 'Chelsea'\n",
      " 'No' 'Yes'] ...\n"
     ]
    }
   ],
   "source": [
    "b = [] #Target Matrix\n",
    "for k in sorted(q):\n",
    "    b.append(q[k])\n",
    "b = np.array(b)\n",
    "print(b[:10],'...')"
   ]
  },
  {
   "cell_type": "code",
   "execution_count": 6,
   "metadata": {},
   "outputs": [
    {
     "name": "stdout",
     "output_type": "stream",
     "text": [
      "(830, 471)\n",
      "(830,)\n"
     ]
    }
   ],
   "source": [
    "# Transform questions to binary questions by raising their numbers\n",
    "\n",
    "votes = []\n",
    "target = []\n",
    "for i in range(len(a)):\n",
    "    answers=[]\n",
    "    for j in range(len(a[0])):\n",
    "        if a[i][j]!=0 and not(a[i][j] in answers):\n",
    "            answers.append(a[i][j])\n",
    "    for answer in answers:\n",
    "        temp = np.array([answer]*len(a[0]))\n",
    "        votes.append(1*(a[i]!=0)*(a[i]==temp)-1*(a[i]!=0)*(a[i]!=temp)) \n",
    "        if answer == b[i]:\n",
    "            target.append(1)\n",
    "        else:\n",
    "            target.append(0)\n",
    "            \n",
    "votes = np.array(votes)\n",
    "target = np.array(target)\n",
    "\n",
    "print(votes.shape) #The new matrix of votes \n",
    "print(target.shape) #The new matrix of answers"
   ]
  },
  {
   "cell_type": "markdown",
   "metadata": {},
   "source": [
    "# 3-Estimates algorithm\n",
    "With trust initialised at 0.1 instead of 0 to make it easier in MPC"
   ]
  },
  {
   "cell_type": "code",
   "execution_count": 7,
   "metadata": {},
   "outputs": [],
   "source": [
    "def est3(v, iterations, target):\n",
    "    nq, nv = v.shape\n",
    "    trust = 0.1* np.ones((1, nv))  # voters trustworthiness\n",
    "    diff = 0.1*np.ones((nq, 1))  # queries difficulty\n",
    "    target.shape = (nq, 1)\n",
    "    error = [] # We will measure the error on each iteration to track it\n",
    "    \n",
    "    t = (v==1)\n",
    "    t_ = (v==-1)\n",
    "    \n",
    "    for it in range(iterations):\n",
    "        n = np.sum(t,1) + np.sum(t_,1)\n",
    "        pos = np.sum(t * (1 - np.matmul(diff, trust)), 1)\n",
    "        neg = np.sum(t_ * np.matmul(diff, trust), 1)\n",
    "        y = (pos + neg) / n\n",
    "        y.shape = (nq, 1)\n",
    "        \n",
    "        n = np.sum(t,1)+np.sum(t_,1)\n",
    "        pos = np.sum(t  * np.matmul((1 - y), 1 / trust), 1)\n",
    "        neg = np.sum(t_ * np.matmul(y, 1 / trust), 1)\n",
    "        diff = (pos + neg) / n\n",
    "        diff.shape = (nq, 1)\n",
    "\n",
    "        n = np.sum(t,0) + np.sum(t_,0)\n",
    "        pos = np.matmul(t.transpose(), (1 - y) / diff)\n",
    "        neg = np.matmul(t_.transpose(), y / diff)\n",
    "        n.shape = pos.shape\n",
    "        trust = (pos + neg) / n\n",
    "        trust.shape = (1, nv)\n",
    "        \n",
    "        error.append(np.mean((np.array(y)>=0.5)!=target)) # % of votes that are wrong\n",
    "        \n",
    "    return np.array(y), np.array(trust), np.array(diff), error"
   ]
  },
  {
   "cell_type": "code",
   "execution_count": 8,
   "metadata": {},
   "outputs": [],
   "source": [
    "#Testing on hubdub\n",
    "y = est3(votes,500,target)"
   ]
  },
  {
   "cell_type": "code",
   "execution_count": 9,
   "metadata": {},
   "outputs": [
    {
     "data": {
      "image/png": "[encoded data removed]",
      "text/plain": [
       "<Figure size 432x288 with 1 Axes>"
      ]
     },
     "metadata": {
      "needs_background": "light"
     },
     "output_type": "display_data"
    },
    {
     "name": "stdout",
     "output_type": "stream",
     "text": [
      "Error percentage on last iteration:  0.5024096385542168\n",
      "The minimum number of errors was achieved on iteration number  3  and it had  252.0  errors.\n"
     ]
    }
   ],
   "source": [
    "plt.plot(y[-1])\n",
    "plt.show() # % of errors on each iteration.\n",
    "print('Error percentage on last iteration: ', y[-1][-1])\n",
    "print('The minimum number of errors was achieved on iteration number ', np.argmin(y[-1])+1, ' and it had ', 830*np.min(y[-1]), ' errors.')"
   ]
  },
  {
   "cell_type": "code",
   "execution_count": 10,
   "metadata": {
    "scrolled": true
   },
   "outputs": [
    {
     "name": "stdout",
     "output_type": "stream",
     "text": [
      "error percentage and number of errors with classic vote:\n",
      "0.3349397590361446 278\n"
     ]
    }
   ],
   "source": [
    "#Classic voting error:\n",
    "\n",
    "answers = (np.sum(votes,1)>0)\n",
    "answers.shape = target.shape\n",
    "print('error percentage and number of errors with classic vote:')\n",
    "print(np.mean(np.abs(answers!=target)), np.sum(np.abs(answers!=target)))\n",
    "\n",
    "#SAME AS PAPER"
   ]
  },
  {
   "cell_type": "markdown",
   "metadata": {},
   "source": [
    "# Same code on bank notes authentification data:\n"
   ]
  },
  {
   "cell_type": "code",
   "execution_count": 13,
   "metadata": {},
   "outputs": [
    {
     "data": {
      "image/png": "[encoded data removed]",
      "text/plain": [
       "<Figure size 432x288 with 1 Axes>"
      ]
     },
     "metadata": {
      "needs_background": "light"
     },
     "output_type": "display_data"
    },
    {
     "name": "stdout",
     "output_type": "stream",
     "text": [
      "Error percentage on last iteration:  0.05\n"
     ]
    }
   ],
   "source": [
    "def get_array(file):\n",
    "    file = open(file, 'rb')\n",
    "    return pickle.load(file)\n",
    "\n",
    "# Same code of 3est on bank data:\n",
    "votes_bank, target_bank = get_array('votes-target.banknotes')\n",
    "y = est3(votes_bank.transpose(),80,target_bank)\n",
    "plt.plot(y[-1])\n",
    "plt.show() # % of errors on each iteration.\n",
    "print('Error percentage on last iteration: ', y[-1][-1])"
   ]
  },
  {
   "cell_type": "code",
   "execution_count": 14,
   "metadata": {},
   "outputs": [
    {
     "name": "stdout",
     "output_type": "stream",
     "text": [
      "error percentage and number of errors with classic vote\n",
      "0.17 17\n"
     ]
    }
   ],
   "source": [
    "#Classic voting error on bank data:\n",
    "answers = (np.sum(votes_bank.transpose(),1)>0)\n",
    "answers.shape = target_bank.shape\n",
    "print('error percentage and number of errors with classic vote')\n",
    "print(np.mean(np.abs(answers!=target_bank)), np.sum(np.abs(answers!=target_bank)))"
   ]
  },
  {
   "cell_type": "markdown",
   "metadata": {},
   "source": [
    "# Cosine on hubdub"
   ]
  },
  {
   "cell_type": "code",
   "execution_count": 23,
   "metadata": {},
   "outputs": [],
   "source": [
    "\n",
    "def cosine(votes, iterations, target):\n",
    "    v = votes.transpose()\n",
    "    t = (v==1)\n",
    "    t_ = (v==-1)\n",
    "    nv, nq = v.shape\n",
    "    error = []\n",
    "    N = np.sum(v!=0, 1) # Number of {votes!=0}\n",
    "    return 1/N, (np.sum(t, 1) - np.sum(t_, 1))\n",
    "    trust = (np.sum(t, 1) - np.sum(t_, 1)) / N\n",
    "    trust.shape = (nv, 1)\n",
    "    N.shape = trust.shape\n",
    "\n",
    "    y = np.ones(target.shape)\n",
    "    e = np.mean(np.abs(target - (y>0)))\n",
    "    print(e)\n",
    "    error.append(e)\n",
    "    eta = 0.2\n",
    "\n",
    "    for iteration in range(iterations):\n",
    "        pos = np.sum(y*t, 1)\n",
    "        neg = np.sum(y*t_, 1)\n",
    "        norm = np.sum((v!=0)*y**2, 1)*N\n",
    "        norm = np.sqrt(norm)\n",
    "        new_trust = (pos - neg)/norm\n",
    "        new_trust.shape = (nv, 1)\n",
    "        trust = trust*(1-eta) + new_trust*eta\n",
    "\n",
    "        pos = np.sum(t*trust**3, 0)\n",
    "        neg = np.sum(t_*trust**3, 0)\n",
    "        norm = pos + neg\n",
    "        y = (pos - neg) / norm\n",
    "\n",
    "        e = np.mean(np.abs(target - (y > 0)))\n",
    "        print(e)\n",
    "        error.append(e)\n",
    "\n",
    "    return y, error"
   ]
  },
  {
   "cell_type": "code",
   "execution_count": 26,
   "metadata": {},
   "outputs": [
    {
     "name": "stdout",
     "output_type": "stream",
     "text": [
      "0.5698795180722892\n"
     ]
    },
    {
     "ename": "ValueError",
     "evalue": "operands could not be broadcast together with shapes (830,) (830,471) ",
     "output_type": "error",
     "traceback": [
      "\u001b[0;31m---------------------------------------------------------------------------\u001b[0m",
      "\u001b[0;31mValueError\u001b[0m                                Traceback (most recent call last)",
      "\u001b[0;32m<ipython-input-26-13a71f2ef9cf>\u001b[0m in \u001b[0;36m<module>\u001b[0;34m\u001b[0m\n\u001b[0;32m----> 1\u001b[0;31m \u001b[0my\u001b[0m \u001b[0;34m=\u001b[0m \u001b[0mcosine\u001b[0m\u001b[0;34m(\u001b[0m\u001b[0mvotes\u001b[0m\u001b[0;34m,\u001b[0m\u001b[0;36m10\u001b[0m\u001b[0;34m,\u001b[0m\u001b[0mtarget\u001b[0m\u001b[0;34m)\u001b[0m\u001b[0;34m\u001b[0m\u001b[0;34m\u001b[0m\u001b[0m\n\u001b[0m\u001b[1;32m      2\u001b[0m \u001b[0mplt\u001b[0m\u001b[0;34m.\u001b[0m\u001b[0mplot\u001b[0m\u001b[0;34m(\u001b[0m\u001b[0my\u001b[0m\u001b[0;34m[\u001b[0m\u001b[0;34m-\u001b[0m\u001b[0;36m1\u001b[0m\u001b[0;34m]\u001b[0m\u001b[0;34m)\u001b[0m\u001b[0;34m\u001b[0m\u001b[0;34m\u001b[0m\u001b[0m\n\u001b[1;32m      3\u001b[0m \u001b[0mplt\u001b[0m\u001b[0;34m.\u001b[0m\u001b[0mshow\u001b[0m\u001b[0;34m(\u001b[0m\u001b[0;34m)\u001b[0m \u001b[0;31m# % of errors on each iteration.\u001b[0m\u001b[0;34m\u001b[0m\u001b[0;34m\u001b[0m\u001b[0m\n\u001b[1;32m      4\u001b[0m \u001b[0mprint\u001b[0m\u001b[0;34m(\u001b[0m\u001b[0;34m'Error percentage on last iteration: '\u001b[0m\u001b[0;34m,\u001b[0m \u001b[0my\u001b[0m\u001b[0;34m[\u001b[0m\u001b[0;34m-\u001b[0m\u001b[0;36m1\u001b[0m\u001b[0;34m]\u001b[0m\u001b[0;34m[\u001b[0m\u001b[0;34m-\u001b[0m\u001b[0;36m1\u001b[0m\u001b[0;34m]\u001b[0m\u001b[0;34m,\u001b[0m \u001b[0my\u001b[0m\u001b[0;34m[\u001b[0m\u001b[0;34m-\u001b[0m\u001b[0;36m1\u001b[0m\u001b[0;34m]\u001b[0m\u001b[0;34m[\u001b[0m\u001b[0;34m-\u001b[0m\u001b[0;36m1\u001b[0m\u001b[0;34m]\u001b[0m\u001b[0;34m*\u001b[0m\u001b[0;36m830\u001b[0m\u001b[0;34m)\u001b[0m\u001b[0;34m\u001b[0m\u001b[0;34m\u001b[0m\u001b[0m\n\u001b[1;32m      5\u001b[0m \u001b[0mprint\u001b[0m\u001b[0;34m(\u001b[0m\u001b[0;34m'The minimum number of errors was achieved on iteration number '\u001b[0m\u001b[0;34m,\u001b[0m \u001b[0mnp\u001b[0m\u001b[0;34m.\u001b[0m\u001b[0margmin\u001b[0m\u001b[0;34m(\u001b[0m\u001b[0my\u001b[0m\u001b[0;34m[\u001b[0m\u001b[0;34m-\u001b[0m\u001b[0;36m1\u001b[0m\u001b[0;34m]\u001b[0m\u001b[0;34m)\u001b[0m\u001b[0;34m+\u001b[0m\u001b[0;36m1\u001b[0m\u001b[0;34m,\u001b[0m \u001b[0;34m' and it had '\u001b[0m\u001b[0;34m,\u001b[0m \u001b[0;36m830\u001b[0m\u001b[0;34m*\u001b[0m\u001b[0mnp\u001b[0m\u001b[0;34m.\u001b[0m\u001b[0mmin\u001b[0m\u001b[0;34m(\u001b[0m\u001b[0my\u001b[0m\u001b[0;34m[\u001b[0m\u001b[0;34m-\u001b[0m\u001b[0;36m1\u001b[0m\u001b[0;34m]\u001b[0m\u001b[0;34m)\u001b[0m\u001b[0;34m,\u001b[0m \u001b[0;34m' errors.'\u001b[0m\u001b[0;34m)\u001b[0m\u001b[0;34m\u001b[0m\u001b[0;34m\u001b[0m\u001b[0m\n",
      "\u001b[0;32m<ipython-input-23-84015de8c6cb>\u001b[0m in \u001b[0;36mcosine\u001b[0;34m(votes, iterations, target)\u001b[0m\n\u001b[1;32m     17\u001b[0m \u001b[0;34m\u001b[0m\u001b[0m\n\u001b[1;32m     18\u001b[0m     \u001b[0;32mfor\u001b[0m \u001b[0miteration\u001b[0m \u001b[0;32min\u001b[0m \u001b[0mrange\u001b[0m\u001b[0;34m(\u001b[0m\u001b[0miterations\u001b[0m\u001b[0;34m)\u001b[0m\u001b[0;34m:\u001b[0m\u001b[0;34m\u001b[0m\u001b[0;34m\u001b[0m\u001b[0m\n\u001b[0;32m---> 19\u001b[0;31m         \u001b[0mpos\u001b[0m \u001b[0;34m=\u001b[0m \u001b[0mnp\u001b[0m\u001b[0;34m.\u001b[0m\u001b[0msum\u001b[0m\u001b[0;34m(\u001b[0m\u001b[0my\u001b[0m\u001b[0;34m*\u001b[0m\u001b[0mt\u001b[0m\u001b[0;34m,\u001b[0m \u001b[0;36m1\u001b[0m\u001b[0;34m)\u001b[0m\u001b[0;34m\u001b[0m\u001b[0;34m\u001b[0m\u001b[0m\n\u001b[0m\u001b[1;32m     20\u001b[0m         \u001b[0mneg\u001b[0m \u001b[0;34m=\u001b[0m \u001b[0mnp\u001b[0m\u001b[0;34m.\u001b[0m\u001b[0msum\u001b[0m\u001b[0;34m(\u001b[0m\u001b[0my\u001b[0m\u001b[0;34m*\u001b[0m\u001b[0mt_\u001b[0m\u001b[0;34m,\u001b[0m \u001b[0;36m1\u001b[0m\u001b[0;34m)\u001b[0m\u001b[0;34m\u001b[0m\u001b[0;34m\u001b[0m\u001b[0m\n\u001b[1;32m     21\u001b[0m         \u001b[0mnorm\u001b[0m \u001b[0;34m=\u001b[0m \u001b[0mnp\u001b[0m\u001b[0;34m.\u001b[0m\u001b[0msum\u001b[0m\u001b[0;34m(\u001b[0m\u001b[0;34m(\u001b[0m\u001b[0mv\u001b[0m\u001b[0;34m!=\u001b[0m\u001b[0;36m0\u001b[0m\u001b[0;34m)\u001b[0m\u001b[0;34m*\u001b[0m\u001b[0my\u001b[0m\u001b[0;34m**\u001b[0m\u001b[0;36m2\u001b[0m\u001b[0;34m,\u001b[0m \u001b[0;36m1\u001b[0m\u001b[0;34m)\u001b[0m\u001b[0;34m*\u001b[0m\u001b[0mN\u001b[0m\u001b[0;34m\u001b[0m\u001b[0;34m\u001b[0m\u001b[0m\n",
      "\u001b[0;31mValueError\u001b[0m: operands could not be broadcast together with shapes (830,) (830,471) "
     ]
    }
   ],
   "source": [
    "y = cosine(votes,10,target)\n",
    "plt.plot(y[-1])\n",
    "plt.show() # % of errors on each iteration.\n",
    "print('Error percentage on last iteration: ', y[-1][-1], y[-1][-1]*830)\n",
    "print('The minimum number of errors was achieved on iteration number ', np.argmin(y[-1])+1, ' and it had ', 830*np.min(y[-1]), ' errors.')"
   ]
  },
  {
   "cell_type": "markdown",
   "metadata": {},
   "source": [
    "# For MPC"
   ]
  },
  {
   "cell_type": "code",
   "execution_count": 470,
   "metadata": {},
   "outputs": [],
   "source": [
    "def map_to_ring(x):\n",
    "    a = 2**20\n",
    "    a = a * x\n",
    "    a = np.rint(a)\n",
    "    a = a.astype(int)\n",
    "    a = a % 2**60\n",
    "    return a\n",
    "\n",
    "def secret_share(x, real=True, modulo=False):\n",
    "    if not modulo:\n",
    "        modulo = 2**60\n",
    "    if real:\n",
    "        x = map_to_ring(x)\n",
    "    shares_partner = np.random.randint(0, modulo, x.shape)\n",
    "    pickle.dump(shares_partner, open('hubdub.alice', 'wb'), protocol=pickle.HIGHEST_PROTOCOL)\n",
    "    shares_identity = (x - shares_partner).astype(int) % modulo\n",
    "    pickle.dump(shares_identity, open('hubdub.bob', 'wb'), protocol=pickle.HIGHEST_PROTOCOL)\n"
   ]
  },
  {
   "cell_type": "code",
   "execution_count": 471,
   "metadata": {},
   "outputs": [],
   "source": [
    "secret_share(votes)"
   ]
  },
  {
   "cell_type": "code",
   "execution_count": 472,
   "metadata": {},
   "outputs": [],
   "source": [
    "pickle.dump(target, open('hubdub.target', 'wb'), protocol=pickle.HIGHEST_PROTOCOL)"
   ]
  },
  {
   "cell_type": "code",
   "execution_count": 473,
   "metadata": {},
   "outputs": [],
   "source": [
    "pickle.dump(votes, open('hubdub.votes', 'wb'), protocol=pickle.HIGHEST_PROTOCOL)"
   ]
  },
  {
   "cell_type": "code",
   "execution_count": null,
   "metadata": {},
   "outputs": [],
   "source": []
  }
 ],
 "metadata": {
  "kernelspec": {
   "display_name": "Python 3",
   "language": "python",
   "name": "python3"
  },
  "language_info": {
   "codemirror_mode": {
    "name": "ipython",
    "version": 3
   },
   "file_extension": ".py",
   "mimetype": "text/x-python",
   "name": "python",
   "nbconvert_exporter": "python",
   "pygments_lexer": "ipython3",
   "version": "3.8.5"
  }
 },
 "nbformat": 4,
 "nbformat_minor": 4
}
